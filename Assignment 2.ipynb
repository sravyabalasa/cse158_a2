{
 "cells": [
  {
   "cell_type": "code",
   "execution_count": 1,
   "id": "2baf812e",
   "metadata": {},
   "outputs": [],
   "source": [
    "import gzip\n",
    "from collections import defaultdict\n",
    "from sklearn import linear_model\n",
    "import csv\n",
    "from collections import defaultdict\n",
    "import random\n",
    "import string\n",
    "from sklearn import linear_model\n",
    "from sklearn.linear_model import Ridge\n",
    "from surprise import SVD\n",
    "import math\n",
    "import numpy as np\n",
    "import dateutil.parser\n",
    "from collections import Counter\n",
    "import pandas as pd\n",
    "import json"
   ]
  },
  {
   "cell_type": "markdown",
   "id": "6c03d851",
   "metadata": {},
   "source": [
    "### 1. Dataset"
   ]
  },
  {
   "cell_type": "markdown",
   "id": "a6ec6467",
   "metadata": {},
   "source": [
    "We are using the [Amazon Product Reviews dataset](https://cseweb.ucsd.edu/~jmcauley/datasets.html#amazon_reviews) from Prof. McAuley’s datasets. Although the data originally contains 82.83 million unique reviews from 20 million users, we are using the Amazon data from 2014 specifically. "
   ]
  },
  {
   "cell_type": "markdown",
   "id": "c3f363a2",
   "metadata": {},
   "source": [
    "To minimize the running time of our algorithm, we will work with just the data from a specific category so let's take the \"Shoes\" data."
   ]
  },
  {
   "cell_type": "markdown",
   "id": "afda847c",
   "metadata": {},
   "source": [
    "#### Reading in the data"
   ]
  },
  {
   "cell_type": "code",
   "execution_count": 2,
   "id": "236a2235",
   "metadata": {},
   "outputs": [],
   "source": [
    "def parse(path):\n",
    "    g = gzip.open(path, 'rb')\n",
    "    for l in g:\n",
    "        yield json.loads(l)\n",
    "\n",
    "def getDF(path):\n",
    "    i = 0\n",
    "    df = {}\n",
    "    for d in parse(path):\n",
    "        df[i] = d\n",
    "        i += 1\n",
    "        if i % 100000 == 0:\n",
    "            print(i)\n",
    "    return pd.DataFrame.from_dict(df, orient='index')"
   ]
  },
  {
   "cell_type": "code",
   "execution_count": 3,
   "id": "ab965d5f",
   "metadata": {},
   "outputs": [
    {
     "name": "stdout",
     "output_type": "stream",
     "text": [
      "100000\n",
      "200000\n",
      "300000\n",
      "400000\n",
      "500000\n",
      "600000\n",
      "700000\n",
      "800000\n",
      "900000\n",
      "1000000\n",
      "1100000\n",
      "1200000\n",
      "1300000\n",
      "1400000\n",
      "1500000\n",
      "1600000\n",
      "1700000\n",
      "1800000\n",
      "1900000\n",
      "2000000\n",
      "2100000\n",
      "2200000\n",
      "2300000\n",
      "2400000\n",
      "2500000\n",
      "2600000\n",
      "2700000\n",
      "2800000\n",
      "2900000\n",
      "3000000\n",
      "3100000\n",
      "3200000\n",
      "3300000\n",
      "3400000\n",
      "3500000\n",
      "3600000\n",
      "3700000\n",
      "3800000\n",
      "3900000\n",
      "4000000\n",
      "4100000\n",
      "4200000\n",
      "4300000\n",
      "4400000\n",
      "4500000\n",
      "4600000\n",
      "4700000\n",
      "4800000\n",
      "4900000\n",
      "5000000\n",
      "5100000\n",
      "5200000\n",
      "5300000\n",
      "5400000\n",
      "5500000\n",
      "5600000\n",
      "5700000\n"
     ]
    }
   ],
   "source": [
    "shoes_df = getDF(\"reviews_Clothing_Shoes_and_Jewelry.json.gz\")"
   ]
  },
  {
   "cell_type": "code",
   "execution_count": 19,
   "id": "41f50c70",
   "metadata": {},
   "outputs": [
    {
     "data": {
      "text/html": [
       "<div>\n",
       "<style scoped>\n",
       "    .dataframe tbody tr th:only-of-type {\n",
       "        vertical-align: middle;\n",
       "    }\n",
       "\n",
       "    .dataframe tbody tr th {\n",
       "        vertical-align: top;\n",
       "    }\n",
       "\n",
       "    .dataframe thead th {\n",
       "        text-align: right;\n",
       "    }\n",
       "</style>\n",
       "<table border=\"1\" class=\"dataframe\">\n",
       "  <thead>\n",
       "    <tr style=\"text-align: right;\">\n",
       "      <th></th>\n",
       "      <th>reviewerID</th>\n",
       "      <th>asin</th>\n",
       "      <th>reviewerName</th>\n",
       "      <th>helpful</th>\n",
       "      <th>reviewText</th>\n",
       "      <th>overall</th>\n",
       "      <th>summary</th>\n",
       "      <th>unixReviewTime</th>\n",
       "      <th>reviewTime</th>\n",
       "    </tr>\n",
       "  </thead>\n",
       "  <tbody>\n",
       "    <tr>\n",
       "      <th>0</th>\n",
       "      <td>A2XVJBSRI3SWDI</td>\n",
       "      <td>0000031887</td>\n",
       "      <td>abigail</td>\n",
       "      <td>[0, 0]</td>\n",
       "      <td>Perfect red tutu for the price. I baught it as...</td>\n",
       "      <td>5.0</td>\n",
       "      <td>Nice tutu</td>\n",
       "      <td>1383523200</td>\n",
       "      <td>11 4, 2013</td>\n",
       "    </tr>\n",
       "    <tr>\n",
       "      <th>1</th>\n",
       "      <td>A2G0LNLN79Q6HR</td>\n",
       "      <td>0000031887</td>\n",
       "      <td>aj_18 \"Aj_18\"</td>\n",
       "      <td>[1, 1]</td>\n",
       "      <td>This was a really cute tutu the only problem i...</td>\n",
       "      <td>4.0</td>\n",
       "      <td>Really Cute but rather short.</td>\n",
       "      <td>1337990400</td>\n",
       "      <td>05 26, 2012</td>\n",
       "    </tr>\n",
       "    <tr>\n",
       "      <th>2</th>\n",
       "      <td>A2R3K1KX09QBYP</td>\n",
       "      <td>0000031887</td>\n",
       "      <td>alert consumer</td>\n",
       "      <td>[1, 1]</td>\n",
       "      <td>the tutu color was very nice. the only issue w...</td>\n",
       "      <td>2.0</td>\n",
       "      <td>not very good material.</td>\n",
       "      <td>1361059200</td>\n",
       "      <td>02 17, 2013</td>\n",
       "    </tr>\n",
       "    <tr>\n",
       "      <th>3</th>\n",
       "      <td>A19PBP93OF896</td>\n",
       "      <td>0000031887</td>\n",
       "      <td>Alinna Satake \"Can't Stop Eating\"</td>\n",
       "      <td>[0, 1]</td>\n",
       "      <td>My 3-yr-old daughter received this as a gift f...</td>\n",
       "      <td>1.0</td>\n",
       "      <td>Tiny and Poorly Constructed!</td>\n",
       "      <td>1363824000</td>\n",
       "      <td>03 21, 2013</td>\n",
       "    </tr>\n",
       "    <tr>\n",
       "      <th>4</th>\n",
       "      <td>A1P0IHU93EF9ZK</td>\n",
       "      <td>0000031887</td>\n",
       "      <td>Amanda</td>\n",
       "      <td>[0, 0]</td>\n",
       "      <td>Bought it for my daughters first birthday whic...</td>\n",
       "      <td>4.0</td>\n",
       "      <td>i love it</td>\n",
       "      <td>1390435200</td>\n",
       "      <td>01 23, 2014</td>\n",
       "    </tr>\n",
       "  </tbody>\n",
       "</table>\n",
       "</div>"
      ],
      "text/plain": [
       "       reviewerID        asin                       reviewerName helpful  \\\n",
       "0  A2XVJBSRI3SWDI  0000031887                            abigail  [0, 0]   \n",
       "1  A2G0LNLN79Q6HR  0000031887                      aj_18 \"Aj_18\"  [1, 1]   \n",
       "2  A2R3K1KX09QBYP  0000031887                     alert consumer  [1, 1]   \n",
       "3   A19PBP93OF896  0000031887  Alinna Satake \"Can't Stop Eating\"  [0, 1]   \n",
       "4  A1P0IHU93EF9ZK  0000031887                             Amanda  [0, 0]   \n",
       "\n",
       "                                          reviewText  overall  \\\n",
       "0  Perfect red tutu for the price. I baught it as...      5.0   \n",
       "1  This was a really cute tutu the only problem i...      4.0   \n",
       "2  the tutu color was very nice. the only issue w...      2.0   \n",
       "3  My 3-yr-old daughter received this as a gift f...      1.0   \n",
       "4  Bought it for my daughters first birthday whic...      4.0   \n",
       "\n",
       "                         summary  unixReviewTime   reviewTime  \n",
       "0                      Nice tutu      1383523200   11 4, 2013  \n",
       "1  Really Cute but rather short.      1337990400  05 26, 2012  \n",
       "2        not very good material.      1361059200  02 17, 2013  \n",
       "3   Tiny and Poorly Constructed!      1363824000  03 21, 2013  \n",
       "4                      i love it      1390435200  01 23, 2014  "
      ]
     },
     "execution_count": 19,
     "metadata": {},
     "output_type": "execute_result"
    }
   ],
   "source": [
    "shoes_df.head()"
   ]
  },
  {
   "cell_type": "code",
   "execution_count": 17,
   "id": "7331afed",
   "metadata": {},
   "outputs": [],
   "source": [
    "import tqdm\n",
    "def parse(path):\n",
    "    g = gzip.open(path, 'rb')\n",
    "    for l in tqdm.tqdm(g):\n",
    "        yield eval(l)\n",
    "\n",
    "def getDFMeta(path):\n",
    "    i = 0\n",
    "    df = {}\n",
    "    for d in parse(path):\n",
    "        df[i] = d\n",
    "        i += 1\n",
    "    return pd.DataFrame.from_dict(df, orient='index')"
   ]
  },
  {
   "cell_type": "code",
   "execution_count": 18,
   "id": "07f4292d",
   "metadata": {},
   "outputs": [
    {
     "name": "stderr",
     "output_type": "stream",
     "text": [
      "1503384it [09:11, 2724.09it/s]\n"
     ]
    }
   ],
   "source": [
    "shoes_df_meta = getDFMeta(\"meta_Clothing_Shoes_and_Jewelry.json.gz\")"
   ]
  },
  {
   "cell_type": "code",
   "execution_count": 20,
   "id": "4eef2f85",
   "metadata": {},
   "outputs": [
    {
     "data": {
      "text/html": [
       "<div>\n",
       "<style scoped>\n",
       "    .dataframe tbody tr th:only-of-type {\n",
       "        vertical-align: middle;\n",
       "    }\n",
       "\n",
       "    .dataframe tbody tr th {\n",
       "        vertical-align: top;\n",
       "    }\n",
       "\n",
       "    .dataframe thead th {\n",
       "        text-align: right;\n",
       "    }\n",
       "</style>\n",
       "<table border=\"1\" class=\"dataframe\">\n",
       "  <thead>\n",
       "    <tr style=\"text-align: right;\">\n",
       "      <th></th>\n",
       "      <th>asin</th>\n",
       "      <th>related</th>\n",
       "      <th>title</th>\n",
       "      <th>price</th>\n",
       "      <th>salesRank</th>\n",
       "      <th>imUrl</th>\n",
       "      <th>brand</th>\n",
       "      <th>categories</th>\n",
       "      <th>description</th>\n",
       "    </tr>\n",
       "  </thead>\n",
       "  <tbody>\n",
       "    <tr>\n",
       "      <th>0</th>\n",
       "      <td>0000037214</td>\n",
       "      <td>{'also_viewed': ['B00JO8II76', 'B00DGN4R1Q', '...</td>\n",
       "      <td>Purple Sequin Tiny Dancer Tutu Ballet Dance Fa...</td>\n",
       "      <td>6.99</td>\n",
       "      <td>{'Clothing': 1233557}</td>\n",
       "      <td>http://ecx.images-amazon.com/images/I/31mCncNu...</td>\n",
       "      <td>Big Dreams</td>\n",
       "      <td>[Clothing, Shoes &amp; Jewelry, Girls]</td>\n",
       "      <td>NaN</td>\n",
       "    </tr>\n",
       "    <tr>\n",
       "      <th>1</th>\n",
       "      <td>0000031887</td>\n",
       "      <td>{'also_bought': ['0000031852', '0000031895', '...</td>\n",
       "      <td>Ballet Dress-Up Fairy Tutu</td>\n",
       "      <td>6.79</td>\n",
       "      <td>{'Sports &amp;amp; Outdoors': 8547}</td>\n",
       "      <td>http://ecx.images-amazon.com/images/I/314qZjYe...</td>\n",
       "      <td>Boutique Cutie</td>\n",
       "      <td>[Clothing, Shoes &amp; Jewelry, Girls, Clothing, A...</td>\n",
       "      <td>This adorable basic ballerina tutu is perfect ...</td>\n",
       "    </tr>\n",
       "    <tr>\n",
       "      <th>2</th>\n",
       "      <td>0123456479</td>\n",
       "      <td>{'also_bought': ['B000BMTCK6', 'B0006JCGUM', '...</td>\n",
       "      <td>SHINING IMAGE HUGE PINK LEATHER JEWELRY BOX / ...</td>\n",
       "      <td>64.98</td>\n",
       "      <td>{'Kitchen &amp; Dining': 16987}</td>\n",
       "      <td>http://ecx.images-amazon.com/images/I/413tGhqo...</td>\n",
       "      <td>NaN</td>\n",
       "      <td>[Clothing, Shoes &amp; Jewelry, Novelty, Costumes ...</td>\n",
       "      <td>Elegance par excellence. Hand-crafted of the f...</td>\n",
       "    </tr>\n",
       "    <tr>\n",
       "      <th>3</th>\n",
       "      <td>0456844570</td>\n",
       "      <td>{'also_viewed': ['B008MTRT1O', 'B00BUG47S4', '...</td>\n",
       "      <td>RiZ Women's Beautify Crafted &amp;frac12; Rimmed F...</td>\n",
       "      <td>NaN</td>\n",
       "      <td>{'Clothing': 1180499}</td>\n",
       "      <td>http://ecx.images-amazon.com/images/I/31QZTHxv...</td>\n",
       "      <td>NaN</td>\n",
       "      <td>[Clothing, Shoes &amp; Jewelry, Women, Accessories...</td>\n",
       "      <td>NaN</td>\n",
       "    </tr>\n",
       "    <tr>\n",
       "      <th>4</th>\n",
       "      <td>0456808574</td>\n",
       "      <td>{'also_viewed': ['B00A6JD8EA', 'B00BFL4FTA', '...</td>\n",
       "      <td>Lantin White Visor Wrap Around Ski Style Aviat...</td>\n",
       "      <td>NaN</td>\n",
       "      <td>{'Clothing': 1038084}</td>\n",
       "      <td>http://ecx.images-amazon.com/images/I/31UsrgT5...</td>\n",
       "      <td>NaN</td>\n",
       "      <td>[Clothing, Shoes &amp; Jewelry, Women, Accessories...</td>\n",
       "      <td>NaN</td>\n",
       "    </tr>\n",
       "  </tbody>\n",
       "</table>\n",
       "</div>"
      ],
      "text/plain": [
       "         asin                                            related  \\\n",
       "0  0000037214  {'also_viewed': ['B00JO8II76', 'B00DGN4R1Q', '...   \n",
       "1  0000031887  {'also_bought': ['0000031852', '0000031895', '...   \n",
       "2  0123456479  {'also_bought': ['B000BMTCK6', 'B0006JCGUM', '...   \n",
       "3  0456844570  {'also_viewed': ['B008MTRT1O', 'B00BUG47S4', '...   \n",
       "4  0456808574  {'also_viewed': ['B00A6JD8EA', 'B00BFL4FTA', '...   \n",
       "\n",
       "                                               title  price  \\\n",
       "0  Purple Sequin Tiny Dancer Tutu Ballet Dance Fa...   6.99   \n",
       "1                         Ballet Dress-Up Fairy Tutu   6.79   \n",
       "2  SHINING IMAGE HUGE PINK LEATHER JEWELRY BOX / ...  64.98   \n",
       "3  RiZ Women's Beautify Crafted &frac12; Rimmed F...    NaN   \n",
       "4  Lantin White Visor Wrap Around Ski Style Aviat...    NaN   \n",
       "\n",
       "                         salesRank  \\\n",
       "0            {'Clothing': 1233557}   \n",
       "1  {'Sports &amp; Outdoors': 8547}   \n",
       "2      {'Kitchen & Dining': 16987}   \n",
       "3            {'Clothing': 1180499}   \n",
       "4            {'Clothing': 1038084}   \n",
       "\n",
       "                                               imUrl           brand  \\\n",
       "0  http://ecx.images-amazon.com/images/I/31mCncNu...      Big Dreams   \n",
       "1  http://ecx.images-amazon.com/images/I/314qZjYe...  Boutique Cutie   \n",
       "2  http://ecx.images-amazon.com/images/I/413tGhqo...             NaN   \n",
       "3  http://ecx.images-amazon.com/images/I/31QZTHxv...             NaN   \n",
       "4  http://ecx.images-amazon.com/images/I/31UsrgT5...             NaN   \n",
       "\n",
       "                                          categories  \\\n",
       "0                 [Clothing, Shoes & Jewelry, Girls]   \n",
       "1  [Clothing, Shoes & Jewelry, Girls, Clothing, A...   \n",
       "2  [Clothing, Shoes & Jewelry, Novelty, Costumes ...   \n",
       "3  [Clothing, Shoes & Jewelry, Women, Accessories...   \n",
       "4  [Clothing, Shoes & Jewelry, Women, Accessories...   \n",
       "\n",
       "                                         description  \n",
       "0                                                NaN  \n",
       "1  This adorable basic ballerina tutu is perfect ...  \n",
       "2  Elegance par excellence. Hand-crafted of the f...  \n",
       "3                                                NaN  \n",
       "4                                                NaN  "
      ]
     },
     "execution_count": 20,
     "metadata": {},
     "output_type": "execute_result"
    }
   ],
   "source": [
    "shoes_df_meta.head()"
   ]
  },
  {
   "cell_type": "code",
   "execution_count": 21,
   "id": "3c4f3198",
   "metadata": {
    "scrolled": true
   },
   "outputs": [
    {
     "name": "stderr",
     "output_type": "stream",
     "text": [
      "1503384it [05:55, 4233.51it/s]\n"
     ]
    }
   ],
   "source": [
    "shoes_df_meta_all_cat = getDFMeta(\"meta_Clothing_Shoes_and_Jewelry.json.gz\")"
   ]
  },
  {
   "cell_type": "markdown",
   "id": "3f95fbf8",
   "metadata": {},
   "source": [
    "### Basic Statistics"
   ]
  },
  {
   "cell_type": "markdown",
   "id": "0ee36ebe",
   "metadata": {},
   "source": [
    "#### All data"
   ]
  },
  {
   "cell_type": "markdown",
   "id": "8ed273b3",
   "metadata": {},
   "source": [
    "Review data"
   ]
  },
  {
   "cell_type": "code",
   "execution_count": 23,
   "id": "69cade71",
   "metadata": {
    "scrolled": true
   },
   "outputs": [
    {
     "data": {
      "text/plain": [
       "5748920"
      ]
     },
     "execution_count": 23,
     "metadata": {},
     "output_type": "execute_result"
    }
   ],
   "source": [
    "len(shoes_df)"
   ]
  },
  {
   "cell_type": "markdown",
   "id": "75df3743",
   "metadata": {},
   "source": [
    "Let's see how many are in each category"
   ]
  },
  {
   "cell_type": "markdown",
   "id": "3f992076",
   "metadata": {},
   "source": [
    "#### Shoes data"
   ]
  },
  {
   "cell_type": "code",
   "execution_count": 53,
   "id": "ddbcf189",
   "metadata": {},
   "outputs": [],
   "source": [
    "def cat_counts(df):\n",
    "    category_counts = defaultdict(int)\n",
    "    for idx, row in df.iterrows():\n",
    "        categories = row['categories']\n",
    "        for cat in categories:\n",
    "            category_counts[cat] += 1\n",
    "    return category_counts"
   ]
  },
  {
   "cell_type": "code",
   "execution_count": 40,
   "id": "9ee0d6dd",
   "metadata": {},
   "outputs": [],
   "source": [
    "def filter_df_by_category(df, category):\n",
    "    return df[df.apply(lambda x: category in x[\"categories\"], axis=1)]"
   ]
  },
  {
   "cell_type": "code",
   "execution_count": 41,
   "id": "d66b44bc",
   "metadata": {},
   "outputs": [],
   "source": [
    "shoes_df_meta_filter = filter_df_by_category(shoes_df_meta, 'Shoes')"
   ]
  },
  {
   "cell_type": "markdown",
   "id": "4765cc2a",
   "metadata": {},
   "source": [
    "We're working with less data for now"
   ]
  },
  {
   "cell_type": "code",
   "execution_count": 43,
   "id": "50c2e3cb",
   "metadata": {},
   "outputs": [
    {
     "data": {
      "text/plain": [
       "58289"
      ]
     },
     "execution_count": 43,
     "metadata": {},
     "output_type": "execute_result"
    }
   ],
   "source": [
    "len(shoes_df_meta_filter)"
   ]
  },
  {
   "cell_type": "code",
   "execution_count": 44,
   "id": "c5278acc",
   "metadata": {
    "scrolled": true
   },
   "outputs": [
    {
     "data": {
      "text/plain": [
       "1503384"
      ]
     },
     "execution_count": 44,
     "metadata": {},
     "output_type": "execute_result"
    }
   ],
   "source": [
    "len(shoes_df_meta)"
   ]
  },
  {
   "cell_type": "markdown",
   "id": "62049496",
   "metadata": {},
   "source": [
    "So let's also filter our review data to those we have metadata about"
   ]
  },
  {
   "cell_type": "code",
   "execution_count": 48,
   "id": "3cf613ca",
   "metadata": {},
   "outputs": [
    {
     "data": {
      "text/plain": [
       "58289"
      ]
     },
     "execution_count": 48,
     "metadata": {},
     "output_type": "execute_result"
    }
   ],
   "source": [
    "shoes_asin_set = set(shoes_df_meta_filter['asin'])\n",
    "len(shoes_asin_set)"
   ]
  },
  {
   "cell_type": "code",
   "execution_count": 49,
   "id": "c3ab866b",
   "metadata": {},
   "outputs": [],
   "source": [
    "def filter_df_by_asin(df):\n",
    "    return df[df.apply(lambda x: x[\"asin\"] in shoes_asin_set, axis=1)]"
   ]
  },
  {
   "cell_type": "code",
   "execution_count": 50,
   "id": "2cdd3cf4",
   "metadata": {},
   "outputs": [],
   "source": [
    "shoes_df_filter = filter_df_by_asin(shoes_df)"
   ]
  },
  {
   "cell_type": "code",
   "execution_count": 51,
   "id": "b38af943",
   "metadata": {
    "scrolled": true
   },
   "outputs": [
    {
     "data": {
      "text/plain": [
       "167084"
      ]
     },
     "execution_count": 51,
     "metadata": {},
     "output_type": "execute_result"
    }
   ],
   "source": [
    "len(shoes_df_filter)"
   ]
  },
  {
   "cell_type": "code",
   "execution_count": 52,
   "id": "6cf5c85f",
   "metadata": {},
   "outputs": [
    {
     "data": {
      "text/plain": [
       "5748920"
      ]
     },
     "execution_count": 52,
     "metadata": {},
     "output_type": "execute_result"
    }
   ],
   "source": [
    "len(shoes_df)"
   ]
  },
  {
   "cell_type": "code",
   "execution_count": 56,
   "id": "78c250fc",
   "metadata": {
    "scrolled": true
   },
   "outputs": [
    {
     "name": "stderr",
     "output_type": "stream",
     "text": [
      "<ipython-input-56-6c78dcff6180>:1: SettingWithCopyWarning: \n",
      "A value is trying to be set on a copy of a slice from a DataFrame.\n",
      "Try using .loc[row_indexer,col_indexer] = value instead\n",
      "\n",
      "See the caveats in the documentation: https://pandas.pydata.org/pandas-docs/stable/user_guide/indexing.html#returning-a-view-versus-a-copy\n",
      "  shoes_df_meta_filter['categories'] = shoes_df_meta_filter['categories'].apply(lambda x: [cat for cat in x if cat != 'Clothing, Shoes & Jewelry'])\n"
     ]
    }
   ],
   "source": [
    "shoes_df_meta_filter['categories'] = shoes_df_meta_filter['categories'].apply(lambda x: [cat for cat in x if cat != 'Clothing, Shoes & Jewelry'])"
   ]
  },
  {
   "cell_type": "code",
   "execution_count": 57,
   "id": "f5d68db9",
   "metadata": {},
   "outputs": [],
   "source": [
    "category_counts = cat_counts(shoes_df_meta_filter)"
   ]
  },
  {
   "cell_type": "markdown",
   "id": "d650900b",
   "metadata": {},
   "source": [
    "creating a dictionary of sets from the \"also_bought\" feature in the metadata"
   ]
  },
  {
   "cell_type": "code",
   "execution_count": 75,
   "id": "2b8f4533",
   "metadata": {},
   "outputs": [],
   "source": [
    "def also_bought_dict_def(df):\n",
    "    also_bought_dict = defaultdict(set)\n",
    "    for idx, row in df.iterrows():\n",
    "        related = row['related']\n",
    "        asin = row['asin']\n",
    "        if type(related) is dict and 'also_bought' in related:\n",
    "            for asin2 in related['also_bought']:\n",
    "                also_bought_dict[asin].add(asin2)\n",
    "    return also_bought_dict"
   ]
  },
  {
   "cell_type": "code",
   "execution_count": 78,
   "id": "72dfda41",
   "metadata": {},
   "outputs": [],
   "source": [
    "also_bought_dict = also_bought_dict_def(shoes_df_meta_filter)"
   ]
  },
  {
   "cell_type": "code",
   "execution_count": 110,
   "id": "67032e4f",
   "metadata": {},
   "outputs": [],
   "source": [
    "positives = set()\n",
    "\n",
    "for key in also_bought_dict:\n",
    "    bought_together = list(also_bought_dict[key])\n",
    "    for i in range(len(bought_together)):\n",
    "        for j in range(i + 1, len(bought_together)):\n",
    "            if bought_together[i] in shoes_asin_set and bought_together[j] in shoes_asin_set:\n",
    "                positives.add((bought_together[i], bought_together[j]))"
   ]
  },
  {
   "cell_type": "code",
   "execution_count": 114,
   "id": "48242d32",
   "metadata": {},
   "outputs": [],
   "source": [
    "negatives = set()\n",
    "\n",
    "for i in range(len(positives)):\n",
    "    sample1 = random.choice(list(shoes_asin_set))\n",
    "    while(1):\n",
    "        sample2 = random.choice(list(shoes_asin_set))\n",
    "        if sample2 in also_bought_dict[sample1]:\n",
    "            continue\n",
    "        else:\n",
    "            negatives.add((sample1, sample2))\n",
    "            break"
   ]
  },
  {
   "cell_type": "code",
   "execution_count": 125,
   "id": "e22e274a",
   "metadata": {},
   "outputs": [],
   "source": [
    "items = list(positives) + list(negatives)"
   ]
  },
  {
   "cell_type": "code",
   "execution_count": 128,
   "id": "fa95dfba",
   "metadata": {},
   "outputs": [],
   "source": [
    "pos_1 = [1] * len(positives)\n",
    "neg_0 = [0] * len(negatives)"
   ]
  },
  {
   "cell_type": "code",
   "execution_count": 130,
   "id": "f2ca8540",
   "metadata": {},
   "outputs": [],
   "source": [
    "items_y = pos_1 + neg_0"
   ]
  },
  {
   "cell_type": "code",
   "execution_count": 131,
   "id": "65f4d692",
   "metadata": {},
   "outputs": [],
   "source": [
    "X_tr, X_te, y_tr, y_te = train_test_split(items, items_y, test_size=0.2, random_state=0)"
   ]
  },
  {
   "cell_type": "code",
   "execution_count": 152,
   "id": "5bb3af02",
   "metadata": {},
   "outputs": [],
   "source": [
    "train_items = set()\n",
    "\n",
    "for idx, item in enumerate(X_tr):\n",
    "    train_items.add(item[0])\n",
    "    train_items.add(item[1])"
   ]
  },
  {
   "cell_type": "code",
   "execution_count": 154,
   "id": "af536e0b",
   "metadata": {},
   "outputs": [],
   "source": [
    "itemsPerUser = defaultdict(set)\n",
    "usersPerItem = defaultdict(set)"
   ]
  },
  {
   "cell_type": "code",
   "execution_count": 155,
   "id": "9d656914",
   "metadata": {},
   "outputs": [],
   "source": [
    "for idx, row in shoes_df_filter.iterrows():\n",
    "    user = row['reviewerID']\n",
    "    item = row['asin']\n",
    "    \n",
    "    if item in train_items:\n",
    "        usersPerItem[item].add(user)\n",
    "        itemsPerUser[user].add(item)"
   ]
  },
  {
   "cell_type": "code",
   "execution_count": 157,
   "id": "9afe32d8",
   "metadata": {},
   "outputs": [],
   "source": [
    "jaccard_list = []\n",
    "\n",
    "for item1, item2 in X_te:    \n",
    "    jaccard = Jaccard(usersPerItem[item1], usersPerItem[item2])\n",
    "    jaccard_list.append(jaccard)"
   ]
  },
  {
   "cell_type": "code",
   "execution_count": 158,
   "id": "17073450",
   "metadata": {},
   "outputs": [],
   "source": [
    "predictions = []\n",
    "\n",
    "for j in jaccard_list:\n",
    "    if j > 0.01:\n",
    "        predictions.append(1)\n",
    "    else:\n",
    "        predictions.append(0)"
   ]
  },
  {
   "cell_type": "code",
   "execution_count": 159,
   "id": "f7a16484",
   "metadata": {},
   "outputs": [
    {
     "data": {
      "text/plain": [
       "0.5075575027382256"
      ]
     },
     "execution_count": 159,
     "metadata": {},
     "output_type": "execute_result"
    }
   ],
   "source": [
    "accuracy = 0\n",
    "for a,b in zip(predictions, y_te):\n",
    "    if a == b:\n",
    "        accuracy += 1\n",
    "        \n",
    "accuracy / len(predictions)"
   ]
  },
  {
   "cell_type": "markdown",
   "id": "b07227b1",
   "metadata": {},
   "source": [
    "\"also bought\" but James' way"
   ]
  },
  {
   "cell_type": "code",
   "execution_count": 166,
   "id": "2be3aacb",
   "metadata": {},
   "outputs": [
    {
     "name": "stderr",
     "output_type": "stream",
     "text": [
      "58289it [00:10, 5472.28it/s]\n"
     ]
    }
   ],
   "source": [
    "positives = set()\n",
    "\n",
    "for idx, b in tqdm.tqdm(shoes_df_meta_filter.iterrows()):\n",
    "    a1= b[\"asin\"]\n",
    "    related = b[\"related\"]\n",
    "    if type(related) is dict and 'also_bought' in related:\n",
    "        for a2 in related['also_bought']:\n",
    "            if a2 in shoes_asin_set:\n",
    "                if a1 < a2:\n",
    "                    positives.add((a1,a2))\n",
    "                else:\n",
    "                    positives.add((a2,a1))\n",
    "    if type(related) is dict and 'bought_together' in related:\n",
    "        for a2 in related['bought_together']:\n",
    "            if a2 in shoes_asin_set:\n",
    "                if a1 < a2:\n",
    "                    positives.add((a1,a2))\n",
    "                if a2 < a1:\n",
    "                    positives.add((a2,a1))"
   ]
  },
  {
   "cell_type": "code",
   "execution_count": 172,
   "id": "c153d363",
   "metadata": {},
   "outputs": [],
   "source": [
    "ones = [1] * len(positives)"
   ]
  },
  {
   "cell_type": "code",
   "execution_count": 169,
   "id": "b8c9bec6",
   "metadata": {},
   "outputs": [
    {
     "name": "stderr",
     "output_type": "stream",
     "text": [
      "100%|██████████| 120058/120058 [12:22<00:00, 161.79it/s]\n"
     ]
    }
   ],
   "source": [
    "negatives = set()\n",
    "\n",
    "for idx, b in tqdm.tqdm(positives):\n",
    "    sample1 = random.choice(list(shoes_asin_set))\n",
    "    while(1):\n",
    "        sample2 = random.choice(list(shoes_asin_set))\n",
    "        if (sample1, sample2) in positives or (sample2, sample1) in positives:\n",
    "            continue\n",
    "        else:\n",
    "            negatives.add((sample1, sample2))\n",
    "            break"
   ]
  },
  {
   "cell_type": "code",
   "execution_count": 173,
   "id": "30fba3d6",
   "metadata": {},
   "outputs": [],
   "source": [
    "zeros = [0] * len(negatives)"
   ]
  },
  {
   "cell_type": "code",
   "execution_count": 170,
   "id": "677fa621",
   "metadata": {},
   "outputs": [],
   "source": [
    "for idx, row in shoes_df_filter.iterrows():\n",
    "    user = row['reviewerID']\n",
    "    item = row['asin']\n",
    "    \n",
    "    usersPerItem[item].add(user)\n",
    "    itemsPerUser[user].add(item)"
   ]
  },
  {
   "cell_type": "code",
   "execution_count": 174,
   "id": "b2722af1",
   "metadata": {},
   "outputs": [],
   "source": [
    "X = list(positives) + list(negatives)"
   ]
  },
  {
   "cell_type": "code",
   "execution_count": 176,
   "id": "7ef60bb2",
   "metadata": {},
   "outputs": [],
   "source": [
    "y = ones + zeros"
   ]
  },
  {
   "cell_type": "code",
   "execution_count": 177,
   "id": "10de9d8f",
   "metadata": {},
   "outputs": [],
   "source": [
    "def Jaccard(s1, s2):\n",
    "    numer = len(s1.intersection(s2))\n",
    "    denom = len(s1.union(s2))\n",
    "    if denom == 0:\n",
    "        return 0\n",
    "    return numer / denom"
   ]
  },
  {
   "cell_type": "code",
   "execution_count": 178,
   "id": "ff605b8c",
   "metadata": {},
   "outputs": [],
   "source": [
    "jaccard_list = []\n",
    "\n",
    "for item1, item2 in X:    \n",
    "    jaccard = Jaccard(usersPerItem[item1], usersPerItem[item2])\n",
    "    jaccard_list.append(jaccard)"
   ]
  },
  {
   "cell_type": "code",
   "execution_count": 190,
   "id": "d0f2a6a7",
   "metadata": {},
   "outputs": [],
   "source": [
    "predictions = []\n",
    "\n",
    "for j in jaccard_list:\n",
    "    if j > 0.5:\n",
    "        predictions.append(1)\n",
    "    else:\n",
    "        predictions.append(0)"
   ]
  },
  {
   "cell_type": "code",
   "execution_count": 191,
   "id": "e2c4fa12",
   "metadata": {},
   "outputs": [
    {
     "data": {
      "text/plain": [
       "0.5000041646884397"
      ]
     },
     "execution_count": 191,
     "metadata": {},
     "output_type": "execute_result"
    }
   ],
   "source": [
    "accuracy = 0\n",
    "for a,b in zip(predictions, y):\n",
    "    if a == b:\n",
    "        accuracy += 1\n",
    "        \n",
    "accuracy / len(predictions)"
   ]
  },
  {
   "cell_type": "markdown",
   "id": "6ad22f64",
   "metadata": {},
   "source": [
    "tldr jaccard or any similarity metric sucks because we do not have enough user data"
   ]
  },
  {
   "cell_type": "markdown",
   "id": "a795cf42",
   "metadata": {},
   "source": [
    "random ideas\n",
    "\n",
    "- weighted\n",
    "    - cosine similarity (sets?)\n",
    "    - jaccard similarity\n",
    "- logistic regression\n",
    "    - for both items\n",
    "        - one hot encode words from the titles\n",
    "        - one hot encode the category\n",
    "        - price\n",
    "        - description\n",
    "    - need to replace the nan values!! \n",
    "    - jaccard similarity between the two items in the row (this will use the user data)\n",
    "        - can't really do pearson or cosine\n",
    "- other (but won't work bc negative validation set)\n",
    "    - ratings\n",
    "    - user who did the review\n",
    "    - top words from the review itself\n",
    "    - temporal\n",
    "    \n",
    "Create training and test sets\n",
    "- split the items into 80, 20\n",
    "- create a test set that had another 20% size worth of pairs that were not bought together "
   ]
  },
  {
   "cell_type": "markdown",
   "id": "fefde8d2",
   "metadata": {},
   "source": [
    "### 2. Predictive Task"
   ]
  },
  {
   "cell_type": "markdown",
   "id": "8d258ea7",
   "metadata": {},
   "source": [
    "Based on our exploratory analysis, the predictive task we are choosing to focus on is given two items i, j, predict whether or not any user has co-purchased them before."
   ]
  }
 ],
 "metadata": {
  "kernelspec": {
   "display_name": "Python 3",
   "language": "python",
   "name": "python3"
  },
  "language_info": {
   "codemirror_mode": {
    "name": "ipython",
    "version": 3
   },
   "file_extension": ".py",
   "mimetype": "text/x-python",
   "name": "python",
   "nbconvert_exporter": "python",
   "pygments_lexer": "ipython3",
   "version": "3.9.1"
  }
 },
 "nbformat": 4,
 "nbformat_minor": 5
}
