{
 "cells": [
  {
   "cell_type": "code",
   "execution_count": 1,
   "id": "2baf812e",
   "metadata": {},
   "outputs": [],
   "source": [
    "import gzip\n",
    "from collections import defaultdict\n",
    "from sklearn import linear_model\n",
    "import csv\n",
    "from collections import defaultdict\n",
    "import random\n",
    "import string\n",
    "from sklearn import linear_model\n",
    "from sklearn.linear_model import Ridge\n",
    "from surprise import SVD\n",
    "import math\n",
    "import numpy as np\n",
    "import dateutil.parser\n",
    "from collections import Counter\n",
    "import pandas as pd\n",
    "import json"
   ]
  },
  {
   "cell_type": "markdown",
   "id": "6c03d851",
   "metadata": {},
   "source": [
    "### 1. Dataset"
   ]
  },
  {
   "cell_type": "markdown",
   "id": "a6ec6467",
   "metadata": {},
   "source": [
    "We are using the [Amazon Product Reviews dataset](https://cseweb.ucsd.edu/~jmcauley/datasets.html#amazon_reviews) from Prof. McAuley’s datasets. Although the data originally contains 82.83 million unique reviews from 20 million users, we are using the Amazon data from 2014 specifically. "
   ]
  },
  {
   "cell_type": "markdown",
   "id": "c3f363a2",
   "metadata": {},
   "source": [
    "To minimize the running time of our algorithm, we will work with just the data from a specific category so let's take the \"Shoes\" data."
   ]
  },
  {
   "cell_type": "markdown",
   "id": "e459bbc9",
   "metadata": {},
   "source": [
    "#### Reading in the data"
   ]
  },
  {
   "cell_type": "code",
   "execution_count": 2,
   "id": "236a2235",
   "metadata": {},
   "outputs": [],
   "source": [
    "def parse(path):\n",
    "    g = gzip.open(path, 'rb')\n",
    "    for l in g:\n",
    "        yield json.loads(l)\n",
    "\n",
    "def getDF(path):\n",
    "    i = 0\n",
    "    df = {}\n",
    "    for d in parse(path):\n",
    "        df[i] = d\n",
    "        i += 1\n",
    "        if i % 100000 == 0:\n",
    "            print(i)\n",
    "    return pd.DataFrame.from_dict(df, orient='index')"
   ]
  },
  {
   "cell_type": "code",
   "execution_count": 3,
   "id": "ab965d5f",
   "metadata": {},
   "outputs": [
    {
     "name": "stdout",
     "output_type": "stream",
     "text": [
      "100000\n",
      "200000\n",
      "300000\n",
      "400000\n",
      "500000\n",
      "600000\n",
      "700000\n",
      "800000\n",
      "900000\n",
      "1000000\n",
      "1100000\n",
      "1200000\n",
      "1300000\n",
      "1400000\n",
      "1500000\n",
      "1600000\n",
      "1700000\n",
      "1800000\n",
      "1900000\n",
      "2000000\n",
      "2100000\n",
      "2200000\n",
      "2300000\n",
      "2400000\n",
      "2500000\n",
      "2600000\n",
      "2700000\n",
      "2800000\n",
      "2900000\n",
      "3000000\n",
      "3100000\n",
      "3200000\n",
      "3300000\n",
      "3400000\n",
      "3500000\n",
      "3600000\n",
      "3700000\n",
      "3800000\n",
      "3900000\n",
      "4000000\n",
      "4100000\n",
      "4200000\n",
      "4300000\n",
      "4400000\n",
      "4500000\n",
      "4600000\n",
      "4700000\n",
      "4800000\n",
      "4900000\n",
      "5000000\n",
      "5100000\n",
      "5200000\n",
      "5300000\n",
      "5400000\n",
      "5500000\n",
      "5600000\n",
      "5700000\n"
     ]
    }
   ],
   "source": [
    "shoes_df = getDF(\"reviews_Clothing_Shoes_and_Jewelry.json.gz\")"
   ]
  },
  {
   "cell_type": "code",
   "execution_count": 19,
   "id": "228f81ed",
   "metadata": {},
   "outputs": [
    {
     "data": {
      "text/html": [
       "<div>\n",
       "<style scoped>\n",
       "    .dataframe tbody tr th:only-of-type {\n",
       "        vertical-align: middle;\n",
       "    }\n",
       "\n",
       "    .dataframe tbody tr th {\n",
       "        vertical-align: top;\n",
       "    }\n",
       "\n",
       "    .dataframe thead th {\n",
       "        text-align: right;\n",
       "    }\n",
       "</style>\n",
       "<table border=\"1\" class=\"dataframe\">\n",
       "  <thead>\n",
       "    <tr style=\"text-align: right;\">\n",
       "      <th></th>\n",
       "      <th>reviewerID</th>\n",
       "      <th>asin</th>\n",
       "      <th>reviewerName</th>\n",
       "      <th>helpful</th>\n",
       "      <th>reviewText</th>\n",
       "      <th>overall</th>\n",
       "      <th>summary</th>\n",
       "      <th>unixReviewTime</th>\n",
       "      <th>reviewTime</th>\n",
       "    </tr>\n",
       "  </thead>\n",
       "  <tbody>\n",
       "    <tr>\n",
       "      <th>0</th>\n",
       "      <td>A2XVJBSRI3SWDI</td>\n",
       "      <td>0000031887</td>\n",
       "      <td>abigail</td>\n",
       "      <td>[0, 0]</td>\n",
       "      <td>Perfect red tutu for the price. I baught it as...</td>\n",
       "      <td>5.0</td>\n",
       "      <td>Nice tutu</td>\n",
       "      <td>1383523200</td>\n",
       "      <td>11 4, 2013</td>\n",
       "    </tr>\n",
       "    <tr>\n",
       "      <th>1</th>\n",
       "      <td>A2G0LNLN79Q6HR</td>\n",
       "      <td>0000031887</td>\n",
       "      <td>aj_18 \"Aj_18\"</td>\n",
       "      <td>[1, 1]</td>\n",
       "      <td>This was a really cute tutu the only problem i...</td>\n",
       "      <td>4.0</td>\n",
       "      <td>Really Cute but rather short.</td>\n",
       "      <td>1337990400</td>\n",
       "      <td>05 26, 2012</td>\n",
       "    </tr>\n",
       "    <tr>\n",
       "      <th>2</th>\n",
       "      <td>A2R3K1KX09QBYP</td>\n",
       "      <td>0000031887</td>\n",
       "      <td>alert consumer</td>\n",
       "      <td>[1, 1]</td>\n",
       "      <td>the tutu color was very nice. the only issue w...</td>\n",
       "      <td>2.0</td>\n",
       "      <td>not very good material.</td>\n",
       "      <td>1361059200</td>\n",
       "      <td>02 17, 2013</td>\n",
       "    </tr>\n",
       "    <tr>\n",
       "      <th>3</th>\n",
       "      <td>A19PBP93OF896</td>\n",
       "      <td>0000031887</td>\n",
       "      <td>Alinna Satake \"Can't Stop Eating\"</td>\n",
       "      <td>[0, 1]</td>\n",
       "      <td>My 3-yr-old daughter received this as a gift f...</td>\n",
       "      <td>1.0</td>\n",
       "      <td>Tiny and Poorly Constructed!</td>\n",
       "      <td>1363824000</td>\n",
       "      <td>03 21, 2013</td>\n",
       "    </tr>\n",
       "    <tr>\n",
       "      <th>4</th>\n",
       "      <td>A1P0IHU93EF9ZK</td>\n",
       "      <td>0000031887</td>\n",
       "      <td>Amanda</td>\n",
       "      <td>[0, 0]</td>\n",
       "      <td>Bought it for my daughters first birthday whic...</td>\n",
       "      <td>4.0</td>\n",
       "      <td>i love it</td>\n",
       "      <td>1390435200</td>\n",
       "      <td>01 23, 2014</td>\n",
       "    </tr>\n",
       "  </tbody>\n",
       "</table>\n",
       "</div>"
      ],
      "text/plain": [
       "       reviewerID        asin                       reviewerName helpful  \\\n",
       "0  A2XVJBSRI3SWDI  0000031887                            abigail  [0, 0]   \n",
       "1  A2G0LNLN79Q6HR  0000031887                      aj_18 \"Aj_18\"  [1, 1]   \n",
       "2  A2R3K1KX09QBYP  0000031887                     alert consumer  [1, 1]   \n",
       "3   A19PBP93OF896  0000031887  Alinna Satake \"Can't Stop Eating\"  [0, 1]   \n",
       "4  A1P0IHU93EF9ZK  0000031887                             Amanda  [0, 0]   \n",
       "\n",
       "                                          reviewText  overall  \\\n",
       "0  Perfect red tutu for the price. I baught it as...      5.0   \n",
       "1  This was a really cute tutu the only problem i...      4.0   \n",
       "2  the tutu color was very nice. the only issue w...      2.0   \n",
       "3  My 3-yr-old daughter received this as a gift f...      1.0   \n",
       "4  Bought it for my daughters first birthday whic...      4.0   \n",
       "\n",
       "                         summary  unixReviewTime   reviewTime  \n",
       "0                      Nice tutu      1383523200   11 4, 2013  \n",
       "1  Really Cute but rather short.      1337990400  05 26, 2012  \n",
       "2        not very good material.      1361059200  02 17, 2013  \n",
       "3   Tiny and Poorly Constructed!      1363824000  03 21, 2013  \n",
       "4                      i love it      1390435200  01 23, 2014  "
      ]
     },
     "execution_count": 19,
     "metadata": {},
     "output_type": "execute_result"
    }
   ],
   "source": [
    "shoes_df.head()"
   ]
  },
  {
   "cell_type": "code",
   "execution_count": 17,
   "id": "5c224b5e",
   "metadata": {},
   "outputs": [],
   "source": [
    "import tqdm\n",
    "def parse(path):\n",
    "    g = gzip.open(path, 'rb')\n",
    "    for l in tqdm.tqdm(g):\n",
    "        yield eval(l)\n",
    "\n",
    "def getDFMeta(path):\n",
    "    i = 0\n",
    "    df = {}\n",
    "    for d in parse(path):\n",
    "        df[i] = d\n",
    "        i += 1\n",
    "    return pd.DataFrame.from_dict(df, orient='index')"
   ]
  },
  {
   "cell_type": "code",
   "execution_count": 18,
   "id": "07f4292d",
   "metadata": {},
   "outputs": [
    {
     "name": "stderr",
     "output_type": "stream",
     "text": [
      "1503384it [09:11, 2724.09it/s]\n"
     ]
    }
   ],
   "source": [
    "shoes_df_meta = getDFMeta(\"meta_Clothing_Shoes_and_Jewelry.json.gz\")"
   ]
  },
  {
   "cell_type": "code",
   "execution_count": 20,
   "id": "59b8d278",
   "metadata": {},
   "outputs": [
    {
     "data": {
      "text/html": [
       "<div>\n",
       "<style scoped>\n",
       "    .dataframe tbody tr th:only-of-type {\n",
       "        vertical-align: middle;\n",
       "    }\n",
       "\n",
       "    .dataframe tbody tr th {\n",
       "        vertical-align: top;\n",
       "    }\n",
       "\n",
       "    .dataframe thead th {\n",
       "        text-align: right;\n",
       "    }\n",
       "</style>\n",
       "<table border=\"1\" class=\"dataframe\">\n",
       "  <thead>\n",
       "    <tr style=\"text-align: right;\">\n",
       "      <th></th>\n",
       "      <th>asin</th>\n",
       "      <th>related</th>\n",
       "      <th>title</th>\n",
       "      <th>price</th>\n",
       "      <th>salesRank</th>\n",
       "      <th>imUrl</th>\n",
       "      <th>brand</th>\n",
       "      <th>categories</th>\n",
       "      <th>description</th>\n",
       "    </tr>\n",
       "  </thead>\n",
       "  <tbody>\n",
       "    <tr>\n",
       "      <th>0</th>\n",
       "      <td>0000037214</td>\n",
       "      <td>{'also_viewed': ['B00JO8II76', 'B00DGN4R1Q', '...</td>\n",
       "      <td>Purple Sequin Tiny Dancer Tutu Ballet Dance Fa...</td>\n",
       "      <td>6.99</td>\n",
       "      <td>{'Clothing': 1233557}</td>\n",
       "      <td>http://ecx.images-amazon.com/images/I/31mCncNu...</td>\n",
       "      <td>Big Dreams</td>\n",
       "      <td>[Clothing, Shoes &amp; Jewelry, Girls]</td>\n",
       "      <td>NaN</td>\n",
       "    </tr>\n",
       "    <tr>\n",
       "      <th>1</th>\n",
       "      <td>0000031887</td>\n",
       "      <td>{'also_bought': ['0000031852', '0000031895', '...</td>\n",
       "      <td>Ballet Dress-Up Fairy Tutu</td>\n",
       "      <td>6.79</td>\n",
       "      <td>{'Sports &amp;amp; Outdoors': 8547}</td>\n",
       "      <td>http://ecx.images-amazon.com/images/I/314qZjYe...</td>\n",
       "      <td>Boutique Cutie</td>\n",
       "      <td>[Clothing, Shoes &amp; Jewelry, Girls, Clothing, A...</td>\n",
       "      <td>This adorable basic ballerina tutu is perfect ...</td>\n",
       "    </tr>\n",
       "    <tr>\n",
       "      <th>2</th>\n",
       "      <td>0123456479</td>\n",
       "      <td>{'also_bought': ['B000BMTCK6', 'B0006JCGUM', '...</td>\n",
       "      <td>SHINING IMAGE HUGE PINK LEATHER JEWELRY BOX / ...</td>\n",
       "      <td>64.98</td>\n",
       "      <td>{'Kitchen &amp; Dining': 16987}</td>\n",
       "      <td>http://ecx.images-amazon.com/images/I/413tGhqo...</td>\n",
       "      <td>NaN</td>\n",
       "      <td>[Clothing, Shoes &amp; Jewelry, Novelty, Costumes ...</td>\n",
       "      <td>Elegance par excellence. Hand-crafted of the f...</td>\n",
       "    </tr>\n",
       "    <tr>\n",
       "      <th>3</th>\n",
       "      <td>0456844570</td>\n",
       "      <td>{'also_viewed': ['B008MTRT1O', 'B00BUG47S4', '...</td>\n",
       "      <td>RiZ Women's Beautify Crafted &amp;frac12; Rimmed F...</td>\n",
       "      <td>NaN</td>\n",
       "      <td>{'Clothing': 1180499}</td>\n",
       "      <td>http://ecx.images-amazon.com/images/I/31QZTHxv...</td>\n",
       "      <td>NaN</td>\n",
       "      <td>[Clothing, Shoes &amp; Jewelry, Women, Accessories...</td>\n",
       "      <td>NaN</td>\n",
       "    </tr>\n",
       "    <tr>\n",
       "      <th>4</th>\n",
       "      <td>0456808574</td>\n",
       "      <td>{'also_viewed': ['B00A6JD8EA', 'B00BFL4FTA', '...</td>\n",
       "      <td>Lantin White Visor Wrap Around Ski Style Aviat...</td>\n",
       "      <td>NaN</td>\n",
       "      <td>{'Clothing': 1038084}</td>\n",
       "      <td>http://ecx.images-amazon.com/images/I/31UsrgT5...</td>\n",
       "      <td>NaN</td>\n",
       "      <td>[Clothing, Shoes &amp; Jewelry, Women, Accessories...</td>\n",
       "      <td>NaN</td>\n",
       "    </tr>\n",
       "  </tbody>\n",
       "</table>\n",
       "</div>"
      ],
      "text/plain": [
       "         asin                                            related  \\\n",
       "0  0000037214  {'also_viewed': ['B00JO8II76', 'B00DGN4R1Q', '...   \n",
       "1  0000031887  {'also_bought': ['0000031852', '0000031895', '...   \n",
       "2  0123456479  {'also_bought': ['B000BMTCK6', 'B0006JCGUM', '...   \n",
       "3  0456844570  {'also_viewed': ['B008MTRT1O', 'B00BUG47S4', '...   \n",
       "4  0456808574  {'also_viewed': ['B00A6JD8EA', 'B00BFL4FTA', '...   \n",
       "\n",
       "                                               title  price  \\\n",
       "0  Purple Sequin Tiny Dancer Tutu Ballet Dance Fa...   6.99   \n",
       "1                         Ballet Dress-Up Fairy Tutu   6.79   \n",
       "2  SHINING IMAGE HUGE PINK LEATHER JEWELRY BOX / ...  64.98   \n",
       "3  RiZ Women's Beautify Crafted &frac12; Rimmed F...    NaN   \n",
       "4  Lantin White Visor Wrap Around Ski Style Aviat...    NaN   \n",
       "\n",
       "                         salesRank  \\\n",
       "0            {'Clothing': 1233557}   \n",
       "1  {'Sports &amp; Outdoors': 8547}   \n",
       "2      {'Kitchen & Dining': 16987}   \n",
       "3            {'Clothing': 1180499}   \n",
       "4            {'Clothing': 1038084}   \n",
       "\n",
       "                                               imUrl           brand  \\\n",
       "0  http://ecx.images-amazon.com/images/I/31mCncNu...      Big Dreams   \n",
       "1  http://ecx.images-amazon.com/images/I/314qZjYe...  Boutique Cutie   \n",
       "2  http://ecx.images-amazon.com/images/I/413tGhqo...             NaN   \n",
       "3  http://ecx.images-amazon.com/images/I/31QZTHxv...             NaN   \n",
       "4  http://ecx.images-amazon.com/images/I/31UsrgT5...             NaN   \n",
       "\n",
       "                                          categories  \\\n",
       "0                 [Clothing, Shoes & Jewelry, Girls]   \n",
       "1  [Clothing, Shoes & Jewelry, Girls, Clothing, A...   \n",
       "2  [Clothing, Shoes & Jewelry, Novelty, Costumes ...   \n",
       "3  [Clothing, Shoes & Jewelry, Women, Accessories...   \n",
       "4  [Clothing, Shoes & Jewelry, Women, Accessories...   \n",
       "\n",
       "                                         description  \n",
       "0                                                NaN  \n",
       "1  This adorable basic ballerina tutu is perfect ...  \n",
       "2  Elegance par excellence. Hand-crafted of the f...  \n",
       "3                                                NaN  \n",
       "4                                                NaN  "
      ]
     },
     "execution_count": 20,
     "metadata": {},
     "output_type": "execute_result"
    }
   ],
   "source": [
    "shoes_df_meta.head()"
   ]
  },
  {
   "cell_type": "code",
   "execution_count": 21,
   "id": "b476d392",
   "metadata": {
    "scrolled": true
   },
   "outputs": [
    {
     "name": "stderr",
     "output_type": "stream",
     "text": [
      "1503384it [05:55, 4233.51it/s]\n"
     ]
    }
   ],
   "source": [
    "shoes_df_meta_all_cat = getDFMeta(\"meta_Clothing_Shoes_and_Jewelry.json.gz\")"
   ]
  },
  {
   "cell_type": "markdown",
   "id": "3f95fbf8",
   "metadata": {},
   "source": [
    "### Basic Statistics"
   ]
  },
  {
   "cell_type": "markdown",
   "id": "0625732a",
   "metadata": {},
   "source": [
    "#### All data"
   ]
  },
  {
   "cell_type": "markdown",
   "id": "058ec2b7",
   "metadata": {},
   "source": [
    "Review data"
   ]
  },
  {
   "cell_type": "code",
   "execution_count": 23,
   "id": "648d2d8c",
   "metadata": {
    "scrolled": true
   },
   "outputs": [
    {
     "data": {
      "text/plain": [
       "5748920"
      ]
     },
     "execution_count": 23,
     "metadata": {},
     "output_type": "execute_result"
    }
   ],
   "source": [
    "len(shoes_df)"
   ]
  },
  {
   "cell_type": "markdown",
   "id": "6ec75148",
   "metadata": {},
   "source": [
    "Let's see how many are in each category"
   ]
  },
  {
   "cell_type": "markdown",
   "id": "bc283d9d",
   "metadata": {},
   "source": [
    "#### Shoes data"
   ]
  },
  {
   "cell_type": "code",
   "execution_count": 53,
   "id": "650fa321",
   "metadata": {},
   "outputs": [],
   "source": [
    "def cat_counts(df):\n",
    "    category_counts = defaultdict(int)\n",
    "    for idx, row in df.iterrows():\n",
    "        categories = row['categories']\n",
    "        for cat in categories:\n",
    "            category_counts[cat] += 1\n",
    "    return category_counts"
   ]
  },
  {
   "cell_type": "code",
   "execution_count": 40,
   "id": "1445769d",
   "metadata": {},
   "outputs": [],
   "source": [
    "def filter_df_by_category(df, category):\n",
    "    return df[df.apply(lambda x: category in x[\"categories\"], axis=1)]"
   ]
  },
  {
   "cell_type": "code",
   "execution_count": 41,
   "id": "cb51aafd",
   "metadata": {},
   "outputs": [],
   "source": [
    "shoes_df_meta_filter = filter_df_by_category(shoes_df_meta, 'Shoes')"
   ]
  },
  {
   "cell_type": "markdown",
   "id": "300549f0",
   "metadata": {},
   "source": [
    "We're working with less data for now"
   ]
  },
  {
   "cell_type": "code",
   "execution_count": 43,
   "id": "33c1f418",
   "metadata": {},
   "outputs": [
    {
     "data": {
      "text/plain": [
       "58289"
      ]
     },
     "execution_count": 43,
     "metadata": {},
     "output_type": "execute_result"
    }
   ],
   "source": [
    "len(shoes_df_meta_filter)"
   ]
  },
  {
   "cell_type": "code",
   "execution_count": 44,
   "id": "2c037a51",
   "metadata": {
    "scrolled": true
   },
   "outputs": [
    {
     "data": {
      "text/plain": [
       "1503384"
      ]
     },
     "execution_count": 44,
     "metadata": {},
     "output_type": "execute_result"
    }
   ],
   "source": [
    "len(shoes_df_meta)"
   ]
  },
  {
   "cell_type": "markdown",
   "id": "3e22c46a",
   "metadata": {},
   "source": [
    "So let's also filter our review data to those we have metadata about"
   ]
  },
  {
   "cell_type": "code",
   "execution_count": 48,
   "id": "96d0dc2d",
   "metadata": {},
   "outputs": [
    {
     "data": {
      "text/plain": [
       "58289"
      ]
     },
     "execution_count": 48,
     "metadata": {},
     "output_type": "execute_result"
    }
   ],
   "source": [
    "shoes_asin_set = set(shoes_df_meta_filter['asin'])\n",
    "len(shoes_asin_set)"
   ]
  },
  {
   "cell_type": "code",
   "execution_count": 49,
   "id": "2d102799",
   "metadata": {},
   "outputs": [],
   "source": [
    "def filter_df_by_asin(df):\n",
    "    return df[df.apply(lambda x: x[\"asin\"] in shoes_asin_set, axis=1)]"
   ]
  },
  {
   "cell_type": "code",
   "execution_count": 50,
   "id": "f59cf087",
   "metadata": {},
   "outputs": [],
   "source": [
    "shoes_df_filter = filter_df_by_asin(shoes_df)"
   ]
  },
  {
   "cell_type": "code",
   "execution_count": 51,
   "id": "eee46b7f",
   "metadata": {
    "scrolled": true
   },
   "outputs": [
    {
     "data": {
      "text/plain": [
       "167084"
      ]
     },
     "execution_count": 51,
     "metadata": {},
     "output_type": "execute_result"
    }
   ],
   "source": [
    "len(shoes_df_filter)"
   ]
  },
  {
   "cell_type": "code",
   "execution_count": 52,
   "id": "9eeb5089",
   "metadata": {},
   "outputs": [
    {
     "data": {
      "text/plain": [
       "5748920"
      ]
     },
     "execution_count": 52,
     "metadata": {},
     "output_type": "execute_result"
    }
   ],
   "source": [
    "len(shoes_df)"
   ]
  },
  {
   "cell_type": "code",
   "execution_count": 56,
   "id": "09c0f241",
   "metadata": {
    "scrolled": true
   },
   "outputs": [
    {
     "name": "stderr",
     "output_type": "stream",
     "text": [
      "<ipython-input-56-6c78dcff6180>:1: SettingWithCopyWarning: \n",
      "A value is trying to be set on a copy of a slice from a DataFrame.\n",
      "Try using .loc[row_indexer,col_indexer] = value instead\n",
      "\n",
      "See the caveats in the documentation: https://pandas.pydata.org/pandas-docs/stable/user_guide/indexing.html#returning-a-view-versus-a-copy\n",
      "  shoes_df_meta_filter['categories'] = shoes_df_meta_filter['categories'].apply(lambda x: [cat for cat in x if cat != 'Clothing, Shoes & Jewelry'])\n"
     ]
    }
   ],
   "source": [
    "shoes_df_meta_filter['categories'] = shoes_df_meta_filter['categories'].apply(lambda x: [cat for cat in x if cat != 'Clothing, Shoes & Jewelry'])"
   ]
  },
  {
   "cell_type": "code",
   "execution_count": 57,
   "id": "ac152805",
   "metadata": {},
   "outputs": [],
   "source": [
    "category_counts = cat_counts(shoes_df_meta_filter)"
   ]
  },
  {
   "cell_type": "markdown",
   "id": "dc44b8fc",
   "metadata": {},
   "source": [
    "creating a dictionary of sets from the \"also_bought\" feature in the metadata"
   ]
  },
  {
   "cell_type": "code",
   "execution_count": 75,
   "id": "3624a81f",
   "metadata": {},
   "outputs": [],
   "source": [
    "def also_bought_dict_def(df):\n",
    "    also_bought_dict = defaultdict(set)\n",
    "    for idx, row in df.iterrows():\n",
    "        related = row['related']\n",
    "        asin = row['asin']\n",
    "        if type(related) is dict and 'also_bought' in related:\n",
    "            for asin2 in related['also_bought']:\n",
    "                also_bought_dict[asin].add(asin2)\n",
    "    return also_bought_dict"
   ]
  },
  {
   "cell_type": "code",
   "execution_count": 78,
   "id": "4377c383",
   "metadata": {},
   "outputs": [],
   "source": [
    "also_bought_dict = also_bought_dict_def(shoes_df_meta_filter)"
   ]
  },
  {
   "cell_type": "code",
   "execution_count": 110,
   "id": "152081ae",
   "metadata": {},
   "outputs": [],
   "source": [
    "positives = set()\n",
    "\n",
    "for key in also_bought_dict:\n",
    "    bought_together = list(also_bought_dict[key])\n",
    "    for i in range(len(bought_together)):\n",
    "        for j in range(i + 1, len(bought_together)):\n",
    "            if bought_together[i] in shoes_asin_set and bought_together[j] in shoes_asin_set:\n",
    "                positives.add((bought_together[i], bought_together[j]))"
   ]
  },
  {
   "cell_type": "code",
   "execution_count": 114,
   "id": "9f784c6d",
   "metadata": {},
   "outputs": [],
   "source": [
    "negatives = set()\n",
    "\n",
    "for i in range(len(positives)):\n",
    "    sample1 = random.choice(list(shoes_asin_set))\n",
    "    while(1):\n",
    "        sample2 = random.choice(list(shoes_asin_set))\n",
    "        if sample2 in also_bought_dict[sample1]:\n",
    "            continue\n",
    "        else:\n",
    "            negatives.add((sample1, sample2))\n",
    "            break"
   ]
  },
  {
   "cell_type": "code",
   "execution_count": 125,
   "id": "8101d578",
   "metadata": {},
   "outputs": [],
   "source": [
    "items = list(positives) + list(negatives)"
   ]
  },
  {
   "cell_type": "code",
   "execution_count": 128,
   "id": "0de31735",
   "metadata": {},
   "outputs": [],
   "source": [
    "pos_1 = [1] * len(positives)\n",
    "neg_0 = [0] * len(negatives)"
   ]
  },
  {
   "cell_type": "code",
   "execution_count": 130,
   "id": "f232fd82",
   "metadata": {},
   "outputs": [],
   "source": [
    "items_y = pos_1 + neg_0"
   ]
  },
  {
   "cell_type": "code",
   "execution_count": 131,
   "id": "b03f0de6",
   "metadata": {},
   "outputs": [],
   "source": [
    "X_tr, X_te, y_tr, y_te = train_test_split(items, items_y, test_size=0.2, random_state=0)"
   ]
  },
  {
   "cell_type": "code",
   "execution_count": 152,
   "id": "90df662c",
   "metadata": {},
   "outputs": [],
   "source": [
    "train_items = set()\n",
    "\n",
    "for idx, item in enumerate(X_tr):\n",
    "    train_items.add(item[0])\n",
    "    train_items.add(item[1])"
   ]
  },
  {
   "cell_type": "code",
   "execution_count": 154,
   "id": "3f7cbb5e",
   "metadata": {},
   "outputs": [],
   "source": [
    "itemsPerUser = defaultdict(set)\n",
    "usersPerItem = defaultdict(set)"
   ]
  },
  {
   "cell_type": "code",
   "execution_count": 155,
   "id": "b1ac23f1",
   "metadata": {},
   "outputs": [],
   "source": [
    "for idx, row in shoes_df_filter.iterrows():\n",
    "    user = row['reviewerID']\n",
    "    item = row['asin']\n",
    "    \n",
    "    if item in train_items:\n",
    "        usersPerItem[item].add(user)\n",
    "        itemsPerUser[user].add(item)"
   ]
  },
  {
   "cell_type": "code",
   "execution_count": 157,
   "id": "0b7dd0ee",
   "metadata": {},
   "outputs": [],
   "source": [
    "jaccard_list = []\n",
    "\n",
    "for item1, item2 in X_te:    \n",
    "    jaccard = Jaccard(usersPerItem[item1], usersPerItem[item2])\n",
    "    jaccard_list.append(jaccard)"
   ]
  },
  {
   "cell_type": "code",
   "execution_count": 158,
   "id": "849a2a1d",
   "metadata": {},
   "outputs": [],
   "source": [
    "predictions = []\n",
    "\n",
    "for j in jaccard_list:\n",
    "    if j > 0.01:\n",
    "        predictions.append(1)\n",
    "    else:\n",
    "        predictions.append(0)"
   ]
  },
  {
   "cell_type": "code",
   "execution_count": 159,
   "id": "0edf4ad5",
   "metadata": {},
   "outputs": [
    {
     "data": {
      "text/plain": [
       "0.5075575027382256"
      ]
     },
     "execution_count": 159,
     "metadata": {},
     "output_type": "execute_result"
    }
   ],
   "source": [
    "accuracy = 0\n",
    "for a,b in zip(predictions, y_te):\n",
    "    if a == b:\n",
    "        accuracy += 1\n",
    "        \n",
    "accuracy / len(predictions)"
   ]
  },
  {
   "cell_type": "markdown",
   "id": "2da5724f",
   "metadata": {},
   "source": [
    "\"also bought\" but James' way"
   ]
  },
  {
   "cell_type": "code",
   "execution_count": 166,
   "id": "99c02022",
   "metadata": {},
   "outputs": [
    {
     "name": "stderr",
     "output_type": "stream",
     "text": [
      "58289it [00:10, 5472.28it/s]\n"
     ]
    }
   ],
   "source": [
    "positives = set()\n",
    "\n",
    "for idx, b in tqdm.tqdm(shoes_df_meta_filter.iterrows()):\n",
    "    a1= b[\"asin\"]\n",
    "    related = b[\"related\"]\n",
    "    if type(related) is dict and 'also_bought' in related:\n",
    "        for a2 in related['also_bought']:\n",
    "            if a2 in shoes_asin_set:\n",
    "                if a1 < a2:\n",
    "                    positives.add((a1,a2))\n",
    "                else:\n",
    "                    positives.add((a2,a1))\n",
    "    if type(related) is dict and 'bought_together' in related:\n",
    "        for a2 in related['bought_together']:\n",
    "            if a2 in shoes_asin_set:\n",
    "                if a1 < a2:\n",
    "                    positives.add((a1,a2))\n",
    "                if a2 < a1:\n",
    "                    positives.add((a2,a1))"
   ]
  },
  {
   "cell_type": "code",
   "execution_count": 172,
   "id": "1f14c86c",
   "metadata": {},
   "outputs": [],
   "source": [
    "ones = [1] * len(positives)"
   ]
  },
  {
   "cell_type": "code",
   "execution_count": 169,
   "id": "d1ec15a3",
   "metadata": {},
   "outputs": [
    {
     "name": "stderr",
     "output_type": "stream",
     "text": [
      "100%|██████████| 120058/120058 [12:22<00:00, 161.79it/s]\n"
     ]
    }
   ],
   "source": [
    "negatives = set()\n",
    "\n",
    "for idx, b in tqdm.tqdm(positives):\n",
    "    sample1 = random.choice(list(shoes_asin_set))\n",
    "    while(1):\n",
    "        sample2 = random.choice(list(shoes_asin_set))\n",
    "        if (sample1, sample2) in positives or (sample2, sample1) in positives:\n",
    "            continue\n",
    "        else:\n",
    "            negatives.add((sample1, sample2))\n",
    "            break"
   ]
  },
  {
   "cell_type": "code",
   "execution_count": 173,
   "id": "47656f09",
   "metadata": {},
   "outputs": [],
   "source": [
    "zeros = [0] * len(negatives)"
   ]
  },
  {
   "cell_type": "code",
   "execution_count": 170,
   "id": "0e95d6de",
   "metadata": {},
   "outputs": [],
   "source": [
    "for idx, row in shoes_df_filter.iterrows():\n",
    "    user = row['reviewerID']\n",
    "    item = row['asin']\n",
    "    \n",
    "    usersPerItem[item].add(user)\n",
    "    itemsPerUser[user].add(item)"
   ]
  },
  {
   "cell_type": "code",
   "execution_count": 174,
   "id": "32f30b9b",
   "metadata": {},
   "outputs": [],
   "source": [
    "X = list(positives) + list(negatives)"
   ]
  },
  {
   "cell_type": "code",
   "execution_count": 176,
   "id": "3c1b2ebf",
   "metadata": {},
   "outputs": [],
   "source": [
    "y = ones + zeros"
   ]
  },
  {
   "cell_type": "code",
   "execution_count": 177,
   "id": "bdeaccae",
   "metadata": {},
   "outputs": [],
   "source": [
    "def Jaccard(s1, s2):\n",
    "    numer = len(s1.intersection(s2))\n",
    "    denom = len(s1.union(s2))\n",
    "    if denom == 0:\n",
    "        return 0\n",
    "    return numer / denom"
   ]
  },
  {
   "cell_type": "code",
   "execution_count": 178,
   "id": "425be03d",
   "metadata": {},
   "outputs": [],
   "source": [
    "jaccard_list = []\n",
    "\n",
    "for item1, item2 in X:    \n",
    "    jaccard = Jaccard(usersPerItem[item1], usersPerItem[item2])\n",
    "    jaccard_list.append(jaccard)"
   ]
  },
  {
   "cell_type": "code",
   "execution_count": 190,
   "id": "ca55518e",
   "metadata": {},
   "outputs": [],
   "source": [
    "predictions = []\n",
    "\n",
    "for j in jaccard_list:\n",
    "    if j > 0.5:\n",
    "        predictions.append(1)\n",
    "    else:\n",
    "        predictions.append(0)"
   ]
  },
  {
   "cell_type": "code",
   "execution_count": 191,
   "id": "41654393",
   "metadata": {},
   "outputs": [
    {
     "data": {
      "text/plain": [
       "0.5000041646884397"
      ]
     },
     "execution_count": 191,
     "metadata": {},
     "output_type": "execute_result"
    }
   ],
   "source": [
    "accuracy = 0\n",
    "for a,b in zip(predictions, y):\n",
    "    if a == b:\n",
    "        accuracy += 1\n",
    "        \n",
    "accuracy / len(predictions)"
   ]
  },
  {
   "cell_type": "markdown",
   "id": "9965371e",
   "metadata": {},
   "source": [
    "tldr jaccard or any similarity metric sucks because we do not have enough user data"
   ]
  },
  {
   "cell_type": "markdown",
   "id": "591290b3",
   "metadata": {},
   "source": [
    "Latent Factor Model\n",
    "\n",
    "- [x] Average of the reviews for that item (if any)\n",
    "- [x] One hot encode the words from the titles\n",
    "- [x] One hot encode the categories\n",
    "- Price"
   ]
  },
  {
   "cell_type": "code",
   "execution_count": 194,
   "id": "909f3d49",
   "metadata": {},
   "outputs": [],
   "source": [
    "from fastFM import als"
   ]
  },
  {
   "cell_type": "markdown",
   "id": "bd61129c",
   "metadata": {},
   "source": [
    "Calculate average of reviews for every item"
   ]
  },
  {
   "cell_type": "code",
   "execution_count": 196,
   "id": "b51708fd",
   "metadata": {},
   "outputs": [
    {
     "name": "stderr",
     "output_type": "stream",
     "text": [
      "167084it [00:12, 13204.85it/s]\n"
     ]
    }
   ],
   "source": [
    "rating_per_item = defaultdict(set)\n",
    "\n",
    "for idx, row in tqdm.tqdm(shoes_df_filter.iterrows()):\n",
    "    item = row['asin']\n",
    "    rating = row['overall']\n",
    "    \n",
    "    rating_per_item[item].add(rating)"
   ]
  },
  {
   "cell_type": "code",
   "execution_count": 198,
   "id": "d9e234ac",
   "metadata": {},
   "outputs": [],
   "source": [
    "avg_rating_per_item = defaultdict(float)\n",
    "\n",
    "for key in rating_per_item:\n",
    "    avg_rating_per_item[key] = sum(rating_per_item[key])/len(rating_per_item[key])"
   ]
  },
  {
   "cell_type": "markdown",
   "id": "2358d010",
   "metadata": {},
   "source": [
    "One hot encode categories"
   ]
  },
  {
   "cell_type": "code",
   "execution_count": 202,
   "id": "6dd92b91",
   "metadata": {},
   "outputs": [],
   "source": [
    "category_counts = cat_counts(shoes_df_meta_filter)"
   ]
  },
  {
   "cell_type": "code",
   "execution_count": 203,
   "id": "4f4e858d",
   "metadata": {},
   "outputs": [
    {
     "data": {
      "text/plain": [
       "82"
      ]
     },
     "execution_count": 203,
     "metadata": {},
     "output_type": "execute_result"
    }
   ],
   "source": [
    "len(category_counts)"
   ]
  },
  {
   "cell_type": "code",
   "execution_count": 205,
   "id": "437ee9a9",
   "metadata": {},
   "outputs": [],
   "source": [
    "categories_set = set(category_counts)"
   ]
  },
  {
   "cell_type": "code",
   "execution_count": 206,
   "id": "9312d91d",
   "metadata": {},
   "outputs": [],
   "source": [
    "categories_set_ind = dict()\n",
    "\n",
    "count = 0\n",
    "for cat in categories_set:\n",
    "    categories_set_ind[cat] = count\n",
    "    count += 1"
   ]
  },
  {
   "cell_type": "code",
   "execution_count": 263,
   "id": "a3cb2a0b",
   "metadata": {},
   "outputs": [
    {
     "data": {
      "text/plain": [
       "82"
      ]
     },
     "execution_count": 263,
     "metadata": {},
     "output_type": "execute_result"
    }
   ],
   "source": [
    "len(categories_set_ind)"
   ]
  },
  {
   "cell_type": "markdown",
   "id": "ff7be68c",
   "metadata": {},
   "source": [
    "One hot encode most popular words from the titles"
   ]
  },
  {
   "cell_type": "code",
   "execution_count": 211,
   "id": "5807759d",
   "metadata": {},
   "outputs": [
    {
     "name": "stderr",
     "output_type": "stream",
     "text": [
      "58289it [00:04, 11932.03it/s]\n"
     ]
    }
   ],
   "source": [
    "wordCount = defaultdict(int)\n",
    "punctuation = set(string.punctuation)\n",
    "for idx, row in tqdm.tqdm(shoes_df_meta_filter.iterrows()):\n",
    "    if type(row['title']) is str:\n",
    "        r = ''.join([c for c in row['title'].lower() if not c in punctuation])\n",
    "        for w in r.split():\n",
    "            wordCount[w] += 1\n",
    "\n",
    "counts = [(wordCount[w], w) for w in wordCount]\n",
    "counts.sort()\n",
    "counts.reverse()"
   ]
  },
  {
   "cell_type": "code",
   "execution_count": 213,
   "id": "b2d680f5",
   "metadata": {},
   "outputs": [
    {
     "data": {
      "text/plain": [
       "30300"
      ]
     },
     "execution_count": 213,
     "metadata": {},
     "output_type": "execute_result"
    }
   ],
   "source": [
    "len(counts)"
   ]
  },
  {
   "cell_type": "code",
   "execution_count": 212,
   "id": "177c88f0",
   "metadata": {},
   "outputs": [
    {
     "data": {
      "text/plain": [
       "[(26642, 'womens'),\n",
       " (11491, 'shoes'),\n",
       " (8364, 'mens'),\n",
       " (7101, 'black'),\n",
       " (6406, 'sandals'),\n",
       " (6165, 'toe'),\n",
       " (5921, 'boots'),\n",
       " (5747, 'heel'),\n",
       " (5119, 'high'),\n",
       " (5044, 'shoe')]"
      ]
     },
     "execution_count": 212,
     "metadata": {},
     "output_type": "execute_result"
    }
   ],
   "source": [
    "counts[:10]"
   ]
  },
  {
   "cell_type": "code",
   "execution_count": 257,
   "id": "b6037baa",
   "metadata": {},
   "outputs": [],
   "source": [
    "final_counts = counts[:3960]"
   ]
  },
  {
   "cell_type": "code",
   "execution_count": 258,
   "id": "af97c3e1",
   "metadata": {},
   "outputs": [
    {
     "data": {
      "text/plain": [
       "3960"
      ]
     },
     "execution_count": 258,
     "metadata": {},
     "output_type": "execute_result"
    }
   ],
   "source": [
    "len(final_counts)"
   ]
  },
  {
   "cell_type": "code",
   "execution_count": 259,
   "id": "452a8717",
   "metadata": {},
   "outputs": [
    {
     "name": "stderr",
     "output_type": "stream",
     "text": [
      "100%|██████████| 3960/3960 [00:00<00:00, 877274.80it/s]\n"
     ]
    }
   ],
   "source": [
    "title_words_ind = dict()\n",
    "\n",
    "count = 0\n",
    "for num, word in tqdm.tqdm(final_counts):\n",
    "    title_words_ind[word] = count\n",
    "    count += 1"
   ]
  },
  {
   "cell_type": "code",
   "execution_count": 262,
   "id": "6721c485",
   "metadata": {},
   "outputs": [
    {
     "data": {
      "text/plain": [
       "3960"
      ]
     },
     "execution_count": 262,
     "metadata": {},
     "output_type": "execute_result"
    }
   ],
   "source": [
    "len(title_words_ind)"
   ]
  },
  {
   "cell_type": "markdown",
   "id": "3a77e59c",
   "metadata": {},
   "source": [
    "One hot encode the item ids"
   ]
  },
  {
   "cell_type": "code",
   "execution_count": 273,
   "id": "5e8d6995",
   "metadata": {},
   "outputs": [
    {
     "data": {
      "text/plain": [
       "58289"
      ]
     },
     "execution_count": 273,
     "metadata": {},
     "output_type": "execute_result"
    }
   ],
   "source": [
    "len(shoes_asin_set)"
   ]
  },
  {
   "cell_type": "code",
   "execution_count": 276,
   "id": "70f83b32",
   "metadata": {},
   "outputs": [
    {
     "name": "stderr",
     "output_type": "stream",
     "text": [
      "100%|██████████| 58289/58289 [00:00<00:00, 85103.27it/s]\n"
     ]
    }
   ],
   "source": [
    "shoes_asin_ind = dict()\n",
    "\n",
    "count = 0\n",
    "for asin in tqdm.tqdm(shoes_asin_set):\n",
    "    shoes_asin_ind[asin] = count\n",
    "    count += 1"
   ]
  },
  {
   "cell_type": "code",
   "execution_count": 277,
   "id": "91cd21d9",
   "metadata": {},
   "outputs": [
    {
     "data": {
      "text/plain": [
       "58289"
      ]
     },
     "execution_count": 277,
     "metadata": {},
     "output_type": "execute_result"
    }
   ],
   "source": [
    "len(shoes_asin_ind)"
   ]
  },
  {
   "cell_type": "code",
   "execution_count": 310,
   "id": "ca33616a",
   "metadata": {},
   "outputs": [
    {
     "data": {
      "text/plain": [
       "66375"
      ]
     },
     "execution_count": 310,
     "metadata": {},
     "output_type": "execute_result"
    }
   ],
   "source": [
    "(len(title_words_ind) + len(categories_set_ind) + 1) * 2 + len(shoes_asin_ind)"
   ]
  },
  {
   "cell_type": "code",
   "execution_count": 312,
   "id": "e43e2049",
   "metadata": {},
   "outputs": [],
   "source": [
    "import scipy\n",
    "\n",
    "# tuple is (number of item pairs we have, column representation)\n",
    "# (title one hot + categories one hot + avg rating (1)) * 2 because two items + item ids one hot\n",
    "Xmat = scipy.sparse.lil_matrix((len(X), (len(title_words_ind) + len(categories_set_ind) + 1) * 2 + len(shoes_asin_ind)))\n",
    "                              )"
   ]
  },
  {
   "cell_type": "code",
   "execution_count": 272,
   "id": "c6cd403f",
   "metadata": {},
   "outputs": [],
   "source": [
    "import random\n",
    "\n",
    "combine = list(zip(X, y))\n",
    "random.shuffle(combine)\n",
    "X_shuff, y_shuff = zip(*combine)"
   ]
  },
  {
   "cell_type": "markdown",
   "id": "c447c1fa",
   "metadata": {},
   "source": [
    "Map items to their row in the metadata dataframe"
   ]
  },
  {
   "cell_type": "code",
   "execution_count": 284,
   "id": "68efdc0c",
   "metadata": {},
   "outputs": [],
   "source": [
    "shoes_df_meta_filter.reset_index(drop=True, inplace=True)"
   ]
  },
  {
   "cell_type": "code",
   "execution_count": 287,
   "id": "1a2d4908",
   "metadata": {},
   "outputs": [
    {
     "data": {
      "text/html": [
       "<div>\n",
       "<style scoped>\n",
       "    .dataframe tbody tr th:only-of-type {\n",
       "        vertical-align: middle;\n",
       "    }\n",
       "\n",
       "    .dataframe tbody tr th {\n",
       "        vertical-align: top;\n",
       "    }\n",
       "\n",
       "    .dataframe thead th {\n",
       "        text-align: right;\n",
       "    }\n",
       "</style>\n",
       "<table border=\"1\" class=\"dataframe\">\n",
       "  <thead>\n",
       "    <tr style=\"text-align: right;\">\n",
       "      <th></th>\n",
       "      <th>asin</th>\n",
       "      <th>related</th>\n",
       "      <th>title</th>\n",
       "      <th>price</th>\n",
       "      <th>salesRank</th>\n",
       "      <th>imUrl</th>\n",
       "      <th>brand</th>\n",
       "      <th>categories</th>\n",
       "      <th>description</th>\n",
       "    </tr>\n",
       "  </thead>\n",
       "  <tbody>\n",
       "    <tr>\n",
       "      <th>0</th>\n",
       "      <td>8921463216</td>\n",
       "      <td>{'also_viewed': ['8921463267', '8921463208', '...</td>\n",
       "      <td>Hello Kitty LALA Lovely Womens Summer Slippers...</td>\n",
       "      <td>NaN</td>\n",
       "      <td>{'Beauty': 377777}</td>\n",
       "      <td>http://ecx.images-amazon.com/images/I/41hbUxgB...</td>\n",
       "      <td>NaN</td>\n",
       "      <td>[Women, Shoes, Slippers]</td>\n",
       "      <td>NaN</td>\n",
       "    </tr>\n",
       "    <tr>\n",
       "      <th>1</th>\n",
       "      <td>8921463267</td>\n",
       "      <td>{'also_viewed': ['8921463259', 'B007682TD0', '...</td>\n",
       "      <td>Hello Kitty LALA Lovely Womens Summer Slippers...</td>\n",
       "      <td>22.99</td>\n",
       "      <td>{'Beauty': 171597}</td>\n",
       "      <td>http://ecx.images-amazon.com/images/I/41H1HmaH...</td>\n",
       "      <td>Hello Kitty</td>\n",
       "      <td>[Women, Shoes, Slippers]</td>\n",
       "      <td>NaN</td>\n",
       "    </tr>\n",
       "    <tr>\n",
       "      <th>2</th>\n",
       "      <td>8921463240</td>\n",
       "      <td>{'also_viewed': ['8921463259', '8921463267', '...</td>\n",
       "      <td>Hello Kitty LALA Lovely Womens Summer Slippers...</td>\n",
       "      <td>22.99</td>\n",
       "      <td>{'Beauty': 763080}</td>\n",
       "      <td>http://ecx.images-amazon.com/images/I/41H1HmaH...</td>\n",
       "      <td>Hello Kitty</td>\n",
       "      <td>[Women, Shoes, Slippers]</td>\n",
       "      <td>NaN</td>\n",
       "    </tr>\n",
       "    <tr>\n",
       "      <th>3</th>\n",
       "      <td>B00004U3SF</td>\n",
       "      <td>{'also_bought': ['B004302N2Q', 'B0017QA998', '...</td>\n",
       "      <td>Wizard of Oz Child's Deluxe Dorothy Ruby Red S...</td>\n",
       "      <td>20.09</td>\n",
       "      <td>{'Toys &amp; Games': 101939}</td>\n",
       "      <td>http://ecx.images-amazon.com/images/I/41MWXUHW...</td>\n",
       "      <td>Rubie&amp;#39;s Costume Co</td>\n",
       "      <td>[Girls, Shoes, Flats]</td>\n",
       "      <td>For any girl who's enchanted by theWizard of O...</td>\n",
       "    </tr>\n",
       "    <tr>\n",
       "      <th>4</th>\n",
       "      <td>B00004VWJW</td>\n",
       "      <td>{'also_viewed': ['B0012YIE3S', 'B000XDRJFI', '...</td>\n",
       "      <td>Birkenstock 68051 Green Super Birki Clog Size ...</td>\n",
       "      <td>71.90</td>\n",
       "      <td>{'Patio, Lawn &amp; Garden': 253160}</td>\n",
       "      <td>http://ecx.images-amazon.com/images/I/41CHQ5CF...</td>\n",
       "      <td>Flagline</td>\n",
       "      <td>[Men, Shoes, Mules &amp; Clogs]</td>\n",
       "      <td>There's a delicious satisfaction in slipping o...</td>\n",
       "    </tr>\n",
       "  </tbody>\n",
       "</table>\n",
       "</div>"
      ],
      "text/plain": [
       "         asin                                            related  \\\n",
       "0  8921463216  {'also_viewed': ['8921463267', '8921463208', '...   \n",
       "1  8921463267  {'also_viewed': ['8921463259', 'B007682TD0', '...   \n",
       "2  8921463240  {'also_viewed': ['8921463259', '8921463267', '...   \n",
       "3  B00004U3SF  {'also_bought': ['B004302N2Q', 'B0017QA998', '...   \n",
       "4  B00004VWJW  {'also_viewed': ['B0012YIE3S', 'B000XDRJFI', '...   \n",
       "\n",
       "                                               title  price  \\\n",
       "0  Hello Kitty LALA Lovely Womens Summer Slippers...    NaN   \n",
       "1  Hello Kitty LALA Lovely Womens Summer Slippers...  22.99   \n",
       "2  Hello Kitty LALA Lovely Womens Summer Slippers...  22.99   \n",
       "3  Wizard of Oz Child's Deluxe Dorothy Ruby Red S...  20.09   \n",
       "4  Birkenstock 68051 Green Super Birki Clog Size ...  71.90   \n",
       "\n",
       "                          salesRank  \\\n",
       "0                {'Beauty': 377777}   \n",
       "1                {'Beauty': 171597}   \n",
       "2                {'Beauty': 763080}   \n",
       "3          {'Toys & Games': 101939}   \n",
       "4  {'Patio, Lawn & Garden': 253160}   \n",
       "\n",
       "                                               imUrl                   brand  \\\n",
       "0  http://ecx.images-amazon.com/images/I/41hbUxgB...                     NaN   \n",
       "1  http://ecx.images-amazon.com/images/I/41H1HmaH...             Hello Kitty   \n",
       "2  http://ecx.images-amazon.com/images/I/41H1HmaH...             Hello Kitty   \n",
       "3  http://ecx.images-amazon.com/images/I/41MWXUHW...  Rubie&#39;s Costume Co   \n",
       "4  http://ecx.images-amazon.com/images/I/41CHQ5CF...                Flagline   \n",
       "\n",
       "                    categories  \\\n",
       "0     [Women, Shoes, Slippers]   \n",
       "1     [Women, Shoes, Slippers]   \n",
       "2     [Women, Shoes, Slippers]   \n",
       "3        [Girls, Shoes, Flats]   \n",
       "4  [Men, Shoes, Mules & Clogs]   \n",
       "\n",
       "                                         description  \n",
       "0                                                NaN  \n",
       "1                                                NaN  \n",
       "2                                                NaN  \n",
       "3  For any girl who's enchanted by theWizard of O...  \n",
       "4  There's a delicious satisfaction in slipping o...  "
      ]
     },
     "execution_count": 287,
     "metadata": {},
     "output_type": "execute_result"
    }
   ],
   "source": [
    "shoes_df_meta_filter.head()"
   ]
  },
  {
   "cell_type": "code",
   "execution_count": 285,
   "id": "efda25b4",
   "metadata": {},
   "outputs": [
    {
     "name": "stderr",
     "output_type": "stream",
     "text": [
      "58289it [00:04, 13719.43it/s]\n"
     ]
    }
   ],
   "source": [
    "item_to_df_index = defaultdict(int)\n",
    "\n",
    "for idx, b in tqdm.tqdm(shoes_df_meta_filter.iterrows()):\n",
    "    item_to_df_index[b['asin']] = idx"
   ]
  },
  {
   "cell_type": "code",
   "execution_count": 315,
   "id": "5b53b5ed",
   "metadata": {},
   "outputs": [
    {
     "name": "stderr",
     "output_type": "stream",
     "text": [
      "  0%|          | 0/240114 [00:00<?, ?it/s]<ipython-input-315-3ec89a92058c>:20: DeprecationWarning: tostring() is deprecated. Use tobytes() instead.\n",
      "  for word in item1row['title'].values.tostring().split():\n",
      "<ipython-input-315-3ec89a92058c>:37: DeprecationWarning: tostring() is deprecated. Use tobytes() instead.\n",
      "  for word in item2row['title'].values.tostring().split():\n",
      "100%|██████████| 240114/240114 [37:04<00:00, 107.94it/s]\n"
     ]
    }
   ],
   "source": [
    "for i in tqdm.tqdm(range(len(X_shuff))):\n",
    "    item1, item2 = X_shuff[i]\n",
    "    \n",
    "    item1row = shoes_df_meta_filter.iloc[[item_to_df_index[item1]]]\n",
    "    item2row = shoes_df_meta_filter.iloc[[item_to_df_index[item2]]]\n",
    "    \n",
    "    # ITEM 1\n",
    "    # Avg rating\n",
    "    avg_rating_1 = [avg_rating_per_item[item1]]\n",
    "    \n",
    "    # 1 hot categories\n",
    "    categories_1 = [0] * len(categories_set_ind)\n",
    "    cat1 = item1row['categories'].values.tolist()[0]\n",
    "    for cat in cat1:\n",
    "        if cat in categories_set_ind:\n",
    "            categories_1[categories_set_ind[cat]] = 1\n",
    "    \n",
    "    # 1 hot title\n",
    "    title_1 = [0] * len(title_words_ind)\n",
    "    for word in item1row['title'].values.tostring().split():\n",
    "        if word in title_words_ind:\n",
    "            title_1[title_words_ind[word]] = 1\n",
    "    \n",
    "    # ITEM 2 \n",
    "    # Avg rating\n",
    "    avg_rating_2 = [avg_rating_per_item[item2]]\n",
    "    \n",
    "    # 1 hot categories\n",
    "    categories_2 = [0] * len(categories_set_ind)\n",
    "    cat2 = item2row['categories'].values.tolist()[0]\n",
    "    for cat in cat2:\n",
    "        if cat in categories_set_ind:\n",
    "            categories_2[categories_set_ind[cat]] = 1\n",
    "    \n",
    "    # 1 hot title\n",
    "    title_2 = [0] * len(title_words_ind)\n",
    "    for word in item2row['title'].values.tostring().split():\n",
    "        if word in title_words_ind:\n",
    "            title_2[title_words_ind[word]] = 1\n",
    "    \n",
    "    # one hot encode item ids\n",
    "    item_ids_enc = [0] * len(shoes_asin_ind)\n",
    "    item_ids_enc[shoes_asin_ind[item1]] = 1\n",
    "    item_ids_enc[shoes_asin_ind[item2]] = 1\n",
    "    \n",
    "    Xmat[i] = np.asarray(avg_rating_1 + categories_1 + title_1 + avg_rating_2 + categories_2 + title_2 + item_ids_enc)"
   ]
  },
  {
   "cell_type": "code",
   "execution_count": 316,
   "id": "c738f029",
   "metadata": {},
   "outputs": [],
   "source": [
    "fm = als.FMRegression(n_iter=1000, init_stdev=0.1, rank=5, l2_reg_w=0.1, l2_reg_V=0.5)"
   ]
  },
  {
   "cell_type": "code",
   "execution_count": 317,
   "id": "ac34dca7",
   "metadata": {},
   "outputs": [
    {
     "data": {
      "text/plain": [
       "192091.2"
      ]
     },
     "execution_count": 317,
     "metadata": {},
     "output_type": "execute_result"
    }
   ],
   "source": [
    "len(X_shuff) * 0.8"
   ]
  },
  {
   "cell_type": "code",
   "execution_count": 356,
   "id": "2e35218d",
   "metadata": {},
   "outputs": [],
   "source": [
    "X_train,y_train = Xmat[:192091],np.array(y_shuff[:192091])\n",
    "X_test,y_test = Xmat[192091:],np.array(y_shuff[192091:])"
   ]
  },
  {
   "cell_type": "code",
   "execution_count": 357,
   "id": "08ce5b81",
   "metadata": {},
   "outputs": [
    {
     "data": {
      "text/plain": [
       "FMRegression(l2_reg_V=0.5, n_iter=1000, rank=5)"
      ]
     },
     "execution_count": 357,
     "metadata": {},
     "output_type": "execute_result"
    }
   ],
   "source": [
    "fm.fit(X_train, y_train)"
   ]
  },
  {
   "cell_type": "code",
   "execution_count": 358,
   "id": "2532d101",
   "metadata": {},
   "outputs": [],
   "source": [
    "y_pred = fm.predict(X_test)"
   ]
  },
  {
   "cell_type": "code",
   "execution_count": 359,
   "id": "e71403dc",
   "metadata": {},
   "outputs": [],
   "source": [
    "def MSE(predictions, labels):\n",
    "    differences = [(x-y)**2 for x,y in zip(predictions,labels)]\n",
    "    return sum(differences) / len(differences)"
   ]
  },
  {
   "cell_type": "code",
   "execution_count": 362,
   "id": "dfc87b39",
   "metadata": {},
   "outputs": [],
   "source": [
    "y_pred_final = []\n",
    "for x in y_pred:\n",
    "    if x > 0.5:\n",
    "        y_pred_final.append(1)\n",
    "    else:\n",
    "        y_pred_final.append(0)"
   ]
  },
  {
   "cell_type": "code",
   "execution_count": 364,
   "id": "67b357ff",
   "metadata": {},
   "outputs": [
    {
     "data": {
      "text/plain": [
       "0.05259979593111634"
      ]
     },
     "execution_count": 364,
     "metadata": {},
     "output_type": "execute_result"
    }
   ],
   "source": [
    "MSE(y_pred_final, y_test)"
   ]
  },
  {
   "cell_type": "code",
   "execution_count": 365,
   "id": "dc8ea913",
   "metadata": {},
   "outputs": [
    {
     "data": {
      "text/plain": [
       "0.9474002040688837"
      ]
     },
     "execution_count": 365,
     "metadata": {},
     "output_type": "execute_result"
    }
   ],
   "source": [
    "accuracy = 0\n",
    "for a,b in zip(y_pred_final, y_test):\n",
    "    if a == b:\n",
    "        accuracy += 1\n",
    "        \n",
    "accuracy / len(y_pred_final)"
   ]
  },
  {
   "cell_type": "markdown",
   "id": "65d5e60d",
   "metadata": {},
   "source": [
    "random ideas\n",
    "\n",
    "- weighted\n",
    "    - cosine similarity (sets?)\n",
    "    - jaccard similarity\n",
    "- logistic regression\n",
    "    - for both items\n",
    "        - one hot encode words from the titles\n",
    "        - one hot encode the category\n",
    "        - price\n",
    "        - description\n",
    "    - need to replace the nan values!! \n",
    "    - jaccard similarity between the two items in the row (this will use the user data)\n",
    "        - can't really do pearson or cosine\n",
    "- other (but won't work bc negative validation set)\n",
    "    - ratings\n",
    "    - user who did the review\n",
    "    - top words from the review itself\n",
    "    - temporal\n",
    "    \n",
    "Create training and test sets\n",
    "- split the items into 80, 20\n",
    "- create a test set that had another 20% size worth of pairs that were not bought together "
   ]
  },
  {
   "cell_type": "markdown",
   "id": "fefde8d2",
   "metadata": {},
   "source": [
    "### 2. Predictive Task"
   ]
  },
  {
   "cell_type": "markdown",
   "id": "8d258ea7",
   "metadata": {},
   "source": [
    "Based on our exploratory analysis, the predictive task we are choosing to focus on is given two items i, j, predict whether or not any user has co-purchased them before."
   ]
  }
 ],
 "metadata": {
  "kernelspec": {
   "display_name": "Python 3",
   "language": "python",
   "name": "python3"
  },
  "language_info": {
   "codemirror_mode": {
    "name": "ipython",
    "version": 3
   },
   "file_extension": ".py",
   "mimetype": "text/x-python",
   "name": "python",
   "nbconvert_exporter": "python",
   "pygments_lexer": "ipython3",
   "version": "3.9.1"
  }
 },
 "nbformat": 4,
 "nbformat_minor": 5
}
